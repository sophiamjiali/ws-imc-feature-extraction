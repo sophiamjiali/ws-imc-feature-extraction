{
 "cells": [
  {
   "cell_type": "code",
   "execution_count": null,
   "id": "6fed950d",
   "metadata": {},
   "outputs": [],
   "source": [
    "import tifffile as tf\n",
    "import numpy as np\n",
    "import os\n",
    "from readimc import MCDFile"
   ]
  },
  {
   "cell_type": "code",
   "execution_count": null,
   "id": "c2755ad7",
   "metadata": {},
   "outputs": [],
   "source": [
    "# Set the current working directory\n",
    "os.chdir('/ddn_exa/campbell/datasets/5-um-PDAC/data/5-micron_PDAC_MCDs')"
   ]
  },
  {
   "cell_type": "code",
   "execution_count": null,
   "id": "adb0c902",
   "metadata": {},
   "outputs": [],
   "source": [
    "# Load the image\n",
    "ws_path = '2024Nov_PDAC_1085471_1085471_1.mcd'\n",
    "\n",
    "with MCDFile(ws_path) as mcd:\n",
    "    for acquisition in mcd.acquisitions:\n",
    "        print(f\"ID: {acquisition.id}, Name: {acquisition.name}, Description: {acquisition.description}\")"
   ]
  }
 ],
 "metadata": {
  "language_info": {
   "name": "python"
  }
 },
 "nbformat": 4,
 "nbformat_minor": 5
}
