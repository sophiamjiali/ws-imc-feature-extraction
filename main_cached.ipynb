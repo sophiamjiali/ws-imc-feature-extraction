{
 "cells": [
  {
   "cell_type": "code",
   "execution_count": null,
   "id": "89a3251e",
   "metadata": {},
   "outputs": [],
   "source": [
    "from lightning import seed_everything\n",
    "from lightning.pytorch import Trainer\n",
    "import os\n",
    "import wandb\n",
    "\n",
    "from utils.extract_patches import extract_and_save_patches\n",
    "from utils.config_utils import load_config, get_image_paths_from_dir, load_panel, fetch_marker_indices\n",
    "from utils.callbacks import get_callbacks\n",
    "from utils.loggers import get_loggers\n",
    "from utils.extract_patches import extract_and_save_patches\n",
    "\n",
    "from datamodules.ws_datamodule_cached import WSDataModuleCached\n",
    "\n",
    "from models.cae_resnet import ResNetEncoder, Decoder, ConvAutoencoder\n",
    "from models.cae_lightning_module import CAELightningModule"
   ]
  },
  {
   "cell_type": "code",
   "execution_count": null,
   "id": "2b595450",
   "metadata": {},
   "outputs": [],
   "source": [
    "## Load and parse the configuration file\n",
    "config = load_config('config/config.yaml')\n",
    "\n",
    "dir_cfg = config.get('directories')\n",
    "model_cfg = config.get('model')\n",
    "train_cfg = config.get('training')\n",
    "preproc_cfg = config.get('preprocessing')\n",
    "aug_cfg = config.get('augmentation')\n",
    "log_cfg = config.get('logging')"
   ]
  },
  {
   "cell_type": "code",
   "execution_count": null,
   "id": "1feda090",
   "metadata": {},
   "outputs": [],
   "source": [
    "## Set the seed for all subsequent processes\n",
    "seed_everything(train_cfg.get('seed'), workers = True)"
   ]
  },
  {
   "cell_type": "code",
   "execution_count": null,
   "id": "dd7de4a0",
   "metadata": {},
   "outputs": [],
   "source": [
    "## Build the datamodule\n",
    "patch_paths = get_image_paths_from_dir(dir_cfg.get('patch_dir'), {'.npy'})\n",
    "panel = load_panel(dir_cfg.get('panel'))\n",
    "\n",
    "datamodule = WSDataModuleCached(\n",
    "    image_paths = patch_paths,\n",
    "    patch_size = preproc_cfg.get('patch_size'),\n",
    "    stride = preproc_cfg.get('stride'),\n",
    "    preproc_cfg = preproc_cfg,\n",
    "    panel = panel,\n",
    "    batch_size = train_cfg.get('batch_size'),\n",
    "    num_workers = train_cfg.get('num_workers')\n",
    ")"
   ]
  },
  {
   "cell_type": "code",
   "execution_count": null,
   "id": "c5f5757a",
   "metadata": {},
   "outputs": [],
   "source": [
    "## Initialize loggers and callbacks: TensorBoard, CSV, Checkpoints, wandb\n",
    "hyperparams = {\n",
    "    \"epochs\": train_cfg.get('epochs'),\n",
    "    \"batch_size\": train_cfg.get('batch_size'),\n",
    "    \"seed\": train_cfg.get('seed')\n",
    "}\n",
    "loggers = get_loggers(dir_cfg.get('logs'), model_cfg.get('name'), hyperparams)\n",
    "callbacks = get_callbacks(dir_cfg.get('checkpoints'), loggers[2].experiment.name)"
   ]
  },
  {
   "cell_type": "code",
   "execution_count": null,
   "id": "41542597",
   "metadata": {},
   "outputs": [],
   "source": [
    "## Initialize patch reconstruction logging\n",
    "log_channels = fetch_marker_indices(log_cfg.get('log_channels'), panel)\n",
    "log_patches = [os.path.join(dir_cfg.get('patch_dir'), patch) for patch in log_cfg.get('log_patches')]"
   ]
  },
  {
   "cell_type": "code",
   "execution_count": null,
   "id": "da5857e9",
   "metadata": {},
   "outputs": [],
   "source": [
    "## Extract and save patches\n",
    "# extract_and_save_patches(image_paths, panel, preproc_cfg, dir_cfg.get('patch_dir'))"
   ]
  },
  {
   "cell_type": "code",
   "execution_count": null,
   "id": "8c4d7a76",
   "metadata": {},
   "outputs": [],
   "source": [
    "## Initialize the model and trainer\n",
    "encoder = ResNetEncoder()\n",
    "decoder = Decoder()\n",
    "cae = ConvAutoencoder(encoder, decoder)\n",
    "model = CAELightningModule(\n",
    "    autoencoder = cae, \n",
    "    lr = train_cfg.get('learning_rate'),\n",
    "    log_patches = log_patches,\n",
    "    log_channels = log_channels\n",
    ")\n",
    "\n",
    "trainer = Trainer(\n",
    "    devices = train_cfg.get('num_devices'),\n",
    "    max_epochs = train_cfg.get('epochs'),\n",
    "    accelerator = \"auto\",\n",
    "    benchmark = False,\n",
    "    logger = loggers,\n",
    "    callbacks = callbacks,\n",
    "    log_every_n_steps = log_cfg.get('log_step_n')\n",
    ")"
   ]
  },
  {
   "cell_type": "code",
   "execution_count": null,
   "id": "e84c4ebc",
   "metadata": {},
   "outputs": [],
   "source": [
    "## Fit the data\n",
    "trainer.fit(model, datamodule)\n",
    "\n",
    "best_val_loss = callbacks[0].best_model_score.item()\n",
    "wandb.run.summary[\"best_val_loss\"] = best_val_loss\n",
    "\n",
    "wandb.finish()"
   ]
  }
 ],
 "metadata": {
  "language_info": {
   "name": "python"
  }
 },
 "nbformat": 4,
 "nbformat_minor": 5
}
