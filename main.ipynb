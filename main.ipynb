{
 "cells": [
  {
   "cell_type": "code",
   "execution_count": null,
   "id": "4e58b4d4",
   "metadata": {},
   "outputs": [],
   "source": [
    "from lightning import seed_everything\n",
    "from datamodules.ws_datamodule import WSDataModule\n",
    "from src.train import train_cae\n",
    "from utils.loggers import get_loggers\n",
    "from utils.callbacks import get_callbacks\n",
    "from src.augmentations import build_augmentation_pipeline\n",
    "from utils.config_utils import load_config, get_image_paths_from_dir, load_panel\n",
    "from lightning.pytorch import Trainer\n",
    "from models.cae_resnet import ConvAutoencoder, ResNetEncoder, Decoder\n",
    "from models.cae_lightning_module import CAELightningModule\n",
    "\n",
    "## Load and parse the configuration file\n",
    "config = load_config('config/config.yaml')\n",
    "\n",
    "dir_cfg = config.get('directories')\n",
    "model_cfg = config.get('model')\n",
    "train_cfg = config.get('training')\n",
    "preproc_cfg = config.get('preprocessing')\n",
    "aug_cfg = config.get('augmentation')\n",
    "\n",
    "## Set the seed for all subsequent processes\n",
    "seed_everything(train_cfg.get('seed'), workers = True)\n",
    "\n",
    "# Initialize loggers and callbacks: TensorBoard, CSV, Checkpoints\n",
    "loggers = get_loggers(dir_cfg.get('logs'), model_cfg.get('name'))\n",
    "callbacks = get_callbacks(dir_cfg.get('checkpoints'))\n",
    "\n",
    "## Initialize the augmentation pipeline and build the datasets\n",
    "data_transforms = build_augmentation_pipeline(aug_cfg)\n",
    "image_paths = get_image_paths_from_dir(dir_cfg.get('mcd_dir'))\n",
    "panel = load_panel(dir_cfg.get('panel'))\n",
    "\n",
    "# Datamodule initializes the train/test datasets and loaders\n",
    "datamodule = WSDataModule(\n",
    "    image_paths = image_paths,\n",
    "    patch_size = preproc_cfg.get('patch_size'),\n",
    "    stride = preproc_cfg.get('stride'),\n",
    "    preproc_cfg = preproc_cfg,\n",
    "    transforms = data_transforms,\n",
    "    panel = panel,\n",
    "    batch_size = train_cfg.get('batch_size'),\n",
    "    num_workers = train_cfg.get('num_workers')\n",
    ")\n",
    "\n",
    "## Initialize the model and trainer\n",
    "encoder = ResNetEncoder()\n",
    "decoder = Decoder()\n",
    "cae = ConvAutoencoder(encoder, decoder)\n",
    "model = CAELightningModule(cae)\n",
    "\n",
    "trainer = Trainer(\n",
    "    devices = train_cfg.get('num_devices'),\n",
    "    max_epochs = train_cfg.get('epochs'),\n",
    "    accelerator = \"auto\",\n",
    "    benchmark = True,        # Fixed input size, speeds up training\n",
    "    logger = loggers,\n",
    "    callbacks = callbacks,\n",
    "    log_every_n_steps = 32\n",
    ")"
   ]
  },
  {
   "cell_type": "code",
   "execution_count": null,
   "id": "0f8cf59e",
   "metadata": {},
   "outputs": [],
   "source": [
    "## Fit the data\n",
    "trainer.fit(model, datamodule)"
   ]
  },
  {
   "cell_type": "code",
   "execution_count": null,
   "id": "f926b2e7",
   "metadata": {},
   "outputs": [],
   "source": [
    "## Evaluate the model and return the metrics\n",
    "trainer.test(model, datamodule)"
   ]
  }
 ],
 "metadata": {
  "language_info": {
   "name": "python"
  }
 },
 "nbformat": 4,
 "nbformat_minor": 5
}
