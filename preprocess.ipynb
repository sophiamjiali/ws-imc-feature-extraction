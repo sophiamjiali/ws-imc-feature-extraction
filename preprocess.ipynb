{
 "cells": [
  {
   "cell_type": "code",
   "execution_count": null,
   "id": "1d55493c",
   "metadata": {},
   "outputs": [],
   "source": [
    "import os\n",
    "\n",
    "from src.preprocess import denoise, remove_background, normalize\n",
    "from utils.config_utils import parse_args, load_config, load_image, save_image, mcd_to_tiff\n",
    "\n",
    "os.chdir('/ddn_exa/campbell/datasets/5-um-PDAC/5_micron_PDAC_MCDs')"
   ]
  },
  {
   "cell_type": "code",
   "execution_count": null,
   "id": "ba6234f2",
   "metadata": {},
   "outputs": [],
   "source": [
    "# Convert all MCD files to TIFF files\n",
    "ws_path = 'Ferris_TMA_2022_PDAC2_s0_a101_ac_full.tiff'"
   ]
  },
  {
   "cell_type": "code",
   "execution_count": null,
   "id": "618b4af7",
   "metadata": {},
   "outputs": [],
   "source": [
    "# Standardize marker order\n",
    "\n",
    "# Remove background stain channels\n",
    "\n"
   ]
  },
  {
   "cell_type": "code",
   "execution_count": null,
   "id": "537533dd",
   "metadata": {},
   "outputs": [],
   "source": [
    "# Preprocess each TIFF file"
   ]
  }
 ],
 "metadata": {
  "language_info": {
   "name": "python"
  }
 },
 "nbformat": 4,
 "nbformat_minor": 5
}
