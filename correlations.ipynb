{
 "cells": [
  {
   "cell_type": "code",
   "execution_count": null,
   "id": "6fed950d",
   "metadata": {},
   "outputs": [],
   "source": [
    "## Import libraries\n",
    "import pandas as pd\n",
    "import os\n",
    "from utils.config_utils import load_clean_panel, load_config, get_image_paths_from_dir, load_panel\n",
    "from utils.compute_correlations import extract_patch_correlations, extract_tma_correlations\n",
    "from utils.correlation_utils import find_common_stains, load_ws_mapping, load_tma_mapping\n",
    "import glob\n",
    "\n",
    "# WS-IMC and TMA-IMC image directories\n",
    "ws_dir = '/ddn_exa/campbell/datasets/5-um-PDAC/data/5_um_PDAC_MCDs'\n",
    "epi_dir = '/ddn_exa/campbell/datasets/5-um-PDAC/data/1_um_PDAC_MCDs/epithelial_tiffs'\n",
    "\n",
    "# Output directories to hold correlation matrices\n",
    "ws_corr_dir = '/ddn_exa/campbell/datasets/5-um-PDAC/data/5_um_PDAC_correlations'\n",
    "tma_corr_dir = '/ddn_exa/campbell/datasets/5-um-PDAC/data/1_um_PDAC_correlations'\n",
    "\n",
    "mapping_dir = '/ddn_exa/campbell/datasets/5-um-PDAC/data/PDAC_mapping'\n",
    "panel_dir = '/ddn_exa/campbell/datasets/5-um-PDAC/data/panels'\n",
    "\n",
    "## Load and parse the configuration file\n",
    "config = load_config('config/config.yaml')\n",
    "preproc_cfg = config.get('preprocessing')"
   ]
  },
  {
   "cell_type": "code",
   "execution_count": null,
   "id": "eb481ef8",
   "metadata": {},
   "outputs": [],
   "source": [
    "## Load WS mapping and panel\n",
    "ws_mapping_path = os.path.join(mapping_dir, '2024-10-28_22-5594_IDs_for_LCM_and_5micronIMC_retrieval_available.xlsx')\n",
    "ws_mapping = load_ws_mapping(ws_mapping_path, ws_dir)\n",
    "ws_panel = load_panel(os.path.join(panel_dir, '5_um_PDAC_consolidated_panel.csv'))"
   ]
  },
  {
   "cell_type": "code",
   "execution_count": null,
   "id": "2910bb0b",
   "metadata": {
    "vscode": {
     "languageId": "julia"
    }
   },
   "outputs": [],
   "source": [
    "## Process epithelial correlations \n",
    "\n",
    "# Load the epithelial mappings\n",
    "epi_mapping_dir = os.path.join(mapping_dir, \"epithelial_mappings\")\n",
    "epi_mapping_paths = glob.glob(os.path.join(epi_mapping_dir, \"*.csv\"))\n",
    "epi_mappings = [load_tma_mapping(f, ws_mapping, epi_dir) for f in epi_mapping_paths]\n",
    "epi_mapping = pd.concat(epi_mappings, ignore_index = True)\n",
    "\n",
    "## Load the panel and find the common set of stains\n",
    "epithelial_panel = load_clean_panel(os.path.join(panel_dir, 'epithelial_panel.csv'))\n",
    "epi_common_stains = find_common_stains(ws_panel, epithelial_panel)\n",
    "\n",
    "## Extract and save the patch correlations of each image\n",
    "#ws_epi_corr_dir = os.path.join(ws_corr_dir, \"epithelial_correlations\")\n",
    "#extract_patch_correlations(ws_dir, ws_epi_corr_dir, epi_common_stains, preproc_cfg)"
   ]
  },
  {
   "cell_type": "code",
   "execution_count": null,
   "id": "fa2b296f",
   "metadata": {
    "vscode": {
     "languageId": "julia"
    }
   },
   "outputs": [],
   "source": [
    "## Extract and save the TMA correlations associated with each image\n",
    "tma_epi_corr_dir = os.path.join(tma_corr_dir, \"epithelial_correlations\")\n",
    "extract_tma_correlations(epi_dir, tma_epi_corr_dir, epi_common_stains, ws_mapping, epi_mapping, preproc_cfg)"
   ]
  },
  {
   "cell_type": "code",
   "execution_count": null,
   "id": "f95b0ec7",
   "metadata": {
    "vscode": {
     "languageId": "julia"
    }
   },
   "outputs": [],
   "source": [
    "# ... continue"
   ]
  }
 ],
 "metadata": {
  "language_info": {
   "name": "python"
  }
 },
 "nbformat": 4,
 "nbformat_minor": 5
}
